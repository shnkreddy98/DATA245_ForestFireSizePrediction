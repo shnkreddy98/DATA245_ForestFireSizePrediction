{
 "cells": [
  {
   "cell_type": "markdown",
   "id": "a860753b",
   "metadata": {},
   "source": [
    "# Forest Fire Size Prediction"
   ]
  },
  {
   "cell_type": "markdown",
   "id": "55c08b01",
   "metadata": {},
   "source": [
    "### Importing all the required libraries."
   ]
  },
  {
   "cell_type": "code",
   "execution_count": 1,
   "id": "e3ddd9b3",
   "metadata": {},
   "outputs": [],
   "source": [
    "import warnings\n",
    "warnings.filterwarnings('ignore')"
   ]
  },
  {
   "cell_type": "code",
   "execution_count": 2,
   "id": "296fe795",
   "metadata": {},
   "outputs": [],
   "source": [
    "import numpy as np\n",
    "import matplotlib.pyplot as plt\n",
    "import pandas as pd\n",
    "import seaborn as sns\n",
    "from datetime import datetime\n",
    "from sklearn.model_selection import train_test_split\n",
    "from sklearn.preprocessing import OneHotEncoder\n",
    "from sklearn.ensemble import RandomForestClassifier\n",
    "import category_encoders as ce"
   ]
  },
  {
   "cell_type": "markdown",
   "id": "e51f7af7",
   "metadata": {},
   "source": [
    "### Reading the CSV files"
   ]
  },
  {
   "cell_type": "code",
   "execution_count": 3,
   "id": "0aad7435",
   "metadata": {},
   "outputs": [
    {
     "data": {
      "text/html": [
       "<div>\n",
       "<style scoped>\n",
       "    .dataframe tbody tr th:only-of-type {\n",
       "        vertical-align: middle;\n",
       "    }\n",
       "\n",
       "    .dataframe tbody tr th {\n",
       "        vertical-align: top;\n",
       "    }\n",
       "\n",
       "    .dataframe thead th {\n",
       "        text-align: right;\n",
       "    }\n",
       "</style>\n",
       "<table border=\"1\" class=\"dataframe\">\n",
       "  <thead>\n",
       "    <tr style=\"text-align: right;\">\n",
       "      <th></th>\n",
       "      <th>Unnamed: 0.1</th>\n",
       "      <th>Unnamed: 0</th>\n",
       "      <th>fire_name</th>\n",
       "      <th>fire_size</th>\n",
       "      <th>fire_size_class</th>\n",
       "      <th>stat_cause_descr</th>\n",
       "      <th>latitude</th>\n",
       "      <th>longitude</th>\n",
       "      <th>state</th>\n",
       "      <th>disc_clean_date</th>\n",
       "      <th>...</th>\n",
       "      <th>Wind_cont</th>\n",
       "      <th>Hum_pre_30</th>\n",
       "      <th>Hum_pre_15</th>\n",
       "      <th>Hum_pre_7</th>\n",
       "      <th>Hum_cont</th>\n",
       "      <th>Prec_pre_30</th>\n",
       "      <th>Prec_pre_15</th>\n",
       "      <th>Prec_pre_7</th>\n",
       "      <th>Prec_cont</th>\n",
       "      <th>remoteness</th>\n",
       "    </tr>\n",
       "  </thead>\n",
       "  <tbody>\n",
       "    <tr>\n",
       "      <th>0</th>\n",
       "      <td>0</td>\n",
       "      <td>0</td>\n",
       "      <td>NaN</td>\n",
       "      <td>10.0</td>\n",
       "      <td>C</td>\n",
       "      <td>Missing/Undefined</td>\n",
       "      <td>18.105072</td>\n",
       "      <td>-66.753044</td>\n",
       "      <td>PR</td>\n",
       "      <td>2/11/2007</td>\n",
       "      <td>...</td>\n",
       "      <td>3.250413</td>\n",
       "      <td>78.216590</td>\n",
       "      <td>76.793750</td>\n",
       "      <td>76.381579</td>\n",
       "      <td>78.724370</td>\n",
       "      <td>0.0</td>\n",
       "      <td>0.0</td>\n",
       "      <td>0.0</td>\n",
       "      <td>0.0</td>\n",
       "      <td>0.017923</td>\n",
       "    </tr>\n",
       "    <tr>\n",
       "      <th>1</th>\n",
       "      <td>1</td>\n",
       "      <td>1</td>\n",
       "      <td>NaN</td>\n",
       "      <td>3.0</td>\n",
       "      <td>B</td>\n",
       "      <td>Arson</td>\n",
       "      <td>35.038330</td>\n",
       "      <td>-87.610000</td>\n",
       "      <td>TN</td>\n",
       "      <td>12/11/2006</td>\n",
       "      <td>...</td>\n",
       "      <td>2.122320</td>\n",
       "      <td>70.840000</td>\n",
       "      <td>65.858911</td>\n",
       "      <td>55.505882</td>\n",
       "      <td>81.682678</td>\n",
       "      <td>59.8</td>\n",
       "      <td>8.4</td>\n",
       "      <td>0.0</td>\n",
       "      <td>86.8</td>\n",
       "      <td>0.184355</td>\n",
       "    </tr>\n",
       "    <tr>\n",
       "      <th>2</th>\n",
       "      <td>2</td>\n",
       "      <td>2</td>\n",
       "      <td>NaN</td>\n",
       "      <td>60.0</td>\n",
       "      <td>C</td>\n",
       "      <td>Arson</td>\n",
       "      <td>34.947800</td>\n",
       "      <td>-88.722500</td>\n",
       "      <td>MS</td>\n",
       "      <td>2/29/2004</td>\n",
       "      <td>...</td>\n",
       "      <td>3.369050</td>\n",
       "      <td>75.531629</td>\n",
       "      <td>75.868613</td>\n",
       "      <td>76.812834</td>\n",
       "      <td>65.063800</td>\n",
       "      <td>168.8</td>\n",
       "      <td>42.2</td>\n",
       "      <td>18.1</td>\n",
       "      <td>124.5</td>\n",
       "      <td>0.194544</td>\n",
       "    </tr>\n",
       "    <tr>\n",
       "      <th>3</th>\n",
       "      <td>3</td>\n",
       "      <td>3</td>\n",
       "      <td>WNA  1</td>\n",
       "      <td>1.0</td>\n",
       "      <td>B</td>\n",
       "      <td>Debris Burning</td>\n",
       "      <td>39.641400</td>\n",
       "      <td>-119.308300</td>\n",
       "      <td>NV</td>\n",
       "      <td>6/6/2005</td>\n",
       "      <td>...</td>\n",
       "      <td>0.000000</td>\n",
       "      <td>44.778429</td>\n",
       "      <td>37.140811</td>\n",
       "      <td>35.353846</td>\n",
       "      <td>0.000000</td>\n",
       "      <td>10.4</td>\n",
       "      <td>7.2</td>\n",
       "      <td>0.0</td>\n",
       "      <td>0.0</td>\n",
       "      <td>0.487447</td>\n",
       "    </tr>\n",
       "    <tr>\n",
       "      <th>4</th>\n",
       "      <td>4</td>\n",
       "      <td>4</td>\n",
       "      <td>NaN</td>\n",
       "      <td>2.0</td>\n",
       "      <td>B</td>\n",
       "      <td>Miscellaneous</td>\n",
       "      <td>30.700600</td>\n",
       "      <td>-90.591400</td>\n",
       "      <td>LA</td>\n",
       "      <td>9/22/1999</td>\n",
       "      <td>...</td>\n",
       "      <td>-1.000000</td>\n",
       "      <td>-1.000000</td>\n",
       "      <td>-1.000000</td>\n",
       "      <td>-1.000000</td>\n",
       "      <td>-1.000000</td>\n",
       "      <td>-1.0</td>\n",
       "      <td>-1.0</td>\n",
       "      <td>-1.0</td>\n",
       "      <td>-1.0</td>\n",
       "      <td>0.214633</td>\n",
       "    </tr>\n",
       "  </tbody>\n",
       "</table>\n",
       "<p>5 rows × 43 columns</p>\n",
       "</div>"
      ],
      "text/plain": [
       "   Unnamed: 0.1  Unnamed: 0 fire_name  fire_size fire_size_class  \\\n",
       "0             0           0       NaN       10.0               C   \n",
       "1             1           1       NaN        3.0               B   \n",
       "2             2           2       NaN       60.0               C   \n",
       "3             3           3    WNA  1        1.0               B   \n",
       "4             4           4       NaN        2.0               B   \n",
       "\n",
       "    stat_cause_descr   latitude   longitude state disc_clean_date  ...  \\\n",
       "0  Missing/Undefined  18.105072  -66.753044    PR       2/11/2007  ...   \n",
       "1              Arson  35.038330  -87.610000    TN      12/11/2006  ...   \n",
       "2              Arson  34.947800  -88.722500    MS       2/29/2004  ...   \n",
       "3     Debris Burning  39.641400 -119.308300    NV        6/6/2005  ...   \n",
       "4      Miscellaneous  30.700600  -90.591400    LA       9/22/1999  ...   \n",
       "\n",
       "  Wind_cont Hum_pre_30 Hum_pre_15  Hum_pre_7   Hum_cont Prec_pre_30  \\\n",
       "0  3.250413  78.216590  76.793750  76.381579  78.724370         0.0   \n",
       "1  2.122320  70.840000  65.858911  55.505882  81.682678        59.8   \n",
       "2  3.369050  75.531629  75.868613  76.812834  65.063800       168.8   \n",
       "3  0.000000  44.778429  37.140811  35.353846   0.000000        10.4   \n",
       "4 -1.000000  -1.000000  -1.000000  -1.000000  -1.000000        -1.0   \n",
       "\n",
       "   Prec_pre_15 Prec_pre_7 Prec_cont  remoteness  \n",
       "0          0.0        0.0       0.0    0.017923  \n",
       "1          8.4        0.0      86.8    0.184355  \n",
       "2         42.2       18.1     124.5    0.194544  \n",
       "3          7.2        0.0       0.0    0.487447  \n",
       "4         -1.0       -1.0      -1.0    0.214633  \n",
       "\n",
       "[5 rows x 43 columns]"
      ]
     },
     "execution_count": 3,
     "metadata": {},
     "output_type": "execute_result"
    }
   ],
   "source": [
    "df = pd.read_csv(\"data/FW_Veg_Rem_Combined.csv\")\n",
    "df.head(5)"
   ]
  },
  {
   "cell_type": "markdown",
   "id": "3d7b835b",
   "metadata": {},
   "source": [
    "### Removing the redundant and unnecessary columns"
   ]
  },
  {
   "cell_type": "code",
   "execution_count": 4,
   "id": "3e28e761",
   "metadata": {},
   "outputs": [],
   "source": [
    "df = df.drop(['Unnamed: 0.1', 'Unnamed: 0', 'fire_name', 'state', 'cont_clean_date',\n",
    "         'discovery_month', 'disc_date_final', 'cont_date_final', 'putout_time', 'disc_pre_year', 'disc_pre_month',\n",
    "         'wstation_usaf', 'dstation_m', 'wstation_wban', 'fire_mag', 'weather_file'],axis=1)"
   ]
  },
  {
   "cell_type": "markdown",
   "id": "8c660878",
   "metadata": {},
   "source": [
    "#### Removed columns with null values, redundant columns like fire_mag, fire_size and date variables"
   ]
  },
  {
   "cell_type": "code",
   "execution_count": 5,
   "id": "c1a9d09a",
   "metadata": {},
   "outputs": [
    {
     "data": {
      "text/html": [
       "<div>\n",
       "<style scoped>\n",
       "    .dataframe tbody tr th:only-of-type {\n",
       "        vertical-align: middle;\n",
       "    }\n",
       "\n",
       "    .dataframe tbody tr th {\n",
       "        vertical-align: top;\n",
       "    }\n",
       "\n",
       "    .dataframe thead th {\n",
       "        text-align: right;\n",
       "    }\n",
       "</style>\n",
       "<table border=\"1\" class=\"dataframe\">\n",
       "  <thead>\n",
       "    <tr style=\"text-align: right;\">\n",
       "      <th></th>\n",
       "      <th>fire_size</th>\n",
       "      <th>fire_size_class</th>\n",
       "      <th>stat_cause_descr</th>\n",
       "      <th>latitude</th>\n",
       "      <th>longitude</th>\n",
       "      <th>disc_clean_date</th>\n",
       "      <th>disc_date_pre</th>\n",
       "      <th>wstation_byear</th>\n",
       "      <th>wstation_eyear</th>\n",
       "      <th>Vegetation</th>\n",
       "      <th>...</th>\n",
       "      <th>Wind_cont</th>\n",
       "      <th>Hum_pre_30</th>\n",
       "      <th>Hum_pre_15</th>\n",
       "      <th>Hum_pre_7</th>\n",
       "      <th>Hum_cont</th>\n",
       "      <th>Prec_pre_30</th>\n",
       "      <th>Prec_pre_15</th>\n",
       "      <th>Prec_pre_7</th>\n",
       "      <th>Prec_cont</th>\n",
       "      <th>remoteness</th>\n",
       "    </tr>\n",
       "  </thead>\n",
       "  <tbody>\n",
       "    <tr>\n",
       "      <th>0</th>\n",
       "      <td>10.0</td>\n",
       "      <td>C</td>\n",
       "      <td>Missing/Undefined</td>\n",
       "      <td>18.105072</td>\n",
       "      <td>-66.753044</td>\n",
       "      <td>2/11/2007</td>\n",
       "      <td>1/12/2007</td>\n",
       "      <td>1945</td>\n",
       "      <td>2018</td>\n",
       "      <td>12</td>\n",
       "      <td>...</td>\n",
       "      <td>3.250413</td>\n",
       "      <td>78.216590</td>\n",
       "      <td>76.793750</td>\n",
       "      <td>76.381579</td>\n",
       "      <td>78.724370</td>\n",
       "      <td>0.0</td>\n",
       "      <td>0.0</td>\n",
       "      <td>0.0</td>\n",
       "      <td>0.0</td>\n",
       "      <td>0.017923</td>\n",
       "    </tr>\n",
       "    <tr>\n",
       "      <th>1</th>\n",
       "      <td>3.0</td>\n",
       "      <td>B</td>\n",
       "      <td>Arson</td>\n",
       "      <td>35.038330</td>\n",
       "      <td>-87.610000</td>\n",
       "      <td>12/11/2006</td>\n",
       "      <td>11/11/2006</td>\n",
       "      <td>1978</td>\n",
       "      <td>2020</td>\n",
       "      <td>15</td>\n",
       "      <td>...</td>\n",
       "      <td>2.122320</td>\n",
       "      <td>70.840000</td>\n",
       "      <td>65.858911</td>\n",
       "      <td>55.505882</td>\n",
       "      <td>81.682678</td>\n",
       "      <td>59.8</td>\n",
       "      <td>8.4</td>\n",
       "      <td>0.0</td>\n",
       "      <td>86.8</td>\n",
       "      <td>0.184355</td>\n",
       "    </tr>\n",
       "    <tr>\n",
       "      <th>2</th>\n",
       "      <td>60.0</td>\n",
       "      <td>C</td>\n",
       "      <td>Arson</td>\n",
       "      <td>34.947800</td>\n",
       "      <td>-88.722500</td>\n",
       "      <td>2/29/2004</td>\n",
       "      <td>1/30/2004</td>\n",
       "      <td>1978</td>\n",
       "      <td>2020</td>\n",
       "      <td>16</td>\n",
       "      <td>...</td>\n",
       "      <td>3.369050</td>\n",
       "      <td>75.531629</td>\n",
       "      <td>75.868613</td>\n",
       "      <td>76.812834</td>\n",
       "      <td>65.063800</td>\n",
       "      <td>168.8</td>\n",
       "      <td>42.2</td>\n",
       "      <td>18.1</td>\n",
       "      <td>124.5</td>\n",
       "      <td>0.194544</td>\n",
       "    </tr>\n",
       "    <tr>\n",
       "      <th>3</th>\n",
       "      <td>1.0</td>\n",
       "      <td>B</td>\n",
       "      <td>Debris Burning</td>\n",
       "      <td>39.641400</td>\n",
       "      <td>-119.308300</td>\n",
       "      <td>6/6/2005</td>\n",
       "      <td>5/7/2005</td>\n",
       "      <td>1942</td>\n",
       "      <td>2020</td>\n",
       "      <td>0</td>\n",
       "      <td>...</td>\n",
       "      <td>0.000000</td>\n",
       "      <td>44.778429</td>\n",
       "      <td>37.140811</td>\n",
       "      <td>35.353846</td>\n",
       "      <td>0.000000</td>\n",
       "      <td>10.4</td>\n",
       "      <td>7.2</td>\n",
       "      <td>0.0</td>\n",
       "      <td>0.0</td>\n",
       "      <td>0.487447</td>\n",
       "    </tr>\n",
       "    <tr>\n",
       "      <th>4</th>\n",
       "      <td>2.0</td>\n",
       "      <td>B</td>\n",
       "      <td>Miscellaneous</td>\n",
       "      <td>30.700600</td>\n",
       "      <td>-90.591400</td>\n",
       "      <td>9/22/1999</td>\n",
       "      <td>8/23/1999</td>\n",
       "      <td>1987</td>\n",
       "      <td>2016</td>\n",
       "      <td>12</td>\n",
       "      <td>...</td>\n",
       "      <td>-1.000000</td>\n",
       "      <td>-1.000000</td>\n",
       "      <td>-1.000000</td>\n",
       "      <td>-1.000000</td>\n",
       "      <td>-1.000000</td>\n",
       "      <td>-1.0</td>\n",
       "      <td>-1.0</td>\n",
       "      <td>-1.0</td>\n",
       "      <td>-1.0</td>\n",
       "      <td>0.214633</td>\n",
       "    </tr>\n",
       "  </tbody>\n",
       "</table>\n",
       "<p>5 rows × 27 columns</p>\n",
       "</div>"
      ],
      "text/plain": [
       "   fire_size fire_size_class   stat_cause_descr   latitude   longitude  \\\n",
       "0       10.0               C  Missing/Undefined  18.105072  -66.753044   \n",
       "1        3.0               B              Arson  35.038330  -87.610000   \n",
       "2       60.0               C              Arson  34.947800  -88.722500   \n",
       "3        1.0               B     Debris Burning  39.641400 -119.308300   \n",
       "4        2.0               B      Miscellaneous  30.700600  -90.591400   \n",
       "\n",
       "  disc_clean_date disc_date_pre  wstation_byear  wstation_eyear  Vegetation  \\\n",
       "0       2/11/2007     1/12/2007            1945            2018          12   \n",
       "1      12/11/2006    11/11/2006            1978            2020          15   \n",
       "2       2/29/2004     1/30/2004            1978            2020          16   \n",
       "3        6/6/2005      5/7/2005            1942            2020           0   \n",
       "4       9/22/1999     8/23/1999            1987            2016          12   \n",
       "\n",
       "   ...  Wind_cont  Hum_pre_30  Hum_pre_15  Hum_pre_7   Hum_cont  Prec_pre_30  \\\n",
       "0  ...   3.250413   78.216590   76.793750  76.381579  78.724370          0.0   \n",
       "1  ...   2.122320   70.840000   65.858911  55.505882  81.682678         59.8   \n",
       "2  ...   3.369050   75.531629   75.868613  76.812834  65.063800        168.8   \n",
       "3  ...   0.000000   44.778429   37.140811  35.353846   0.000000         10.4   \n",
       "4  ...  -1.000000   -1.000000   -1.000000  -1.000000  -1.000000         -1.0   \n",
       "\n",
       "   Prec_pre_15  Prec_pre_7  Prec_cont  remoteness  \n",
       "0          0.0         0.0        0.0    0.017923  \n",
       "1          8.4         0.0       86.8    0.184355  \n",
       "2         42.2        18.1      124.5    0.194544  \n",
       "3          7.2         0.0        0.0    0.487447  \n",
       "4         -1.0        -1.0       -1.0    0.214633  \n",
       "\n",
       "[5 rows x 27 columns]"
      ]
     },
     "execution_count": 5,
     "metadata": {},
     "output_type": "execute_result"
    }
   ],
   "source": [
    "df.head(5)"
   ]
  },
  {
   "cell_type": "markdown",
   "id": "8d9b202e",
   "metadata": {},
   "source": [
    "#### As the target class is unbalanced we decided to club the smaller group of classes as 1.\n",
    "#### Clubbing (C,D,E,F,G) as (1) class and A,B as (0) class.\n",
    "#### 0 idicates small fire <25 Acres and 1 represents a widespread fire >25Acres."
   ]
  },
  {
   "cell_type": "code",
   "execution_count": 6,
   "id": "2dcd3503",
   "metadata": {},
   "outputs": [],
   "source": [
    "class_mapping = {'A': 0, 'B': 0, 'C':1, 'D':1, 'E':1, 'F':1, 'G':1}\n",
    "df = df.replace(class_mapping)"
   ]
  },
  {
   "cell_type": "code",
   "execution_count": 7,
   "id": "db503b8f",
   "metadata": {},
   "outputs": [
    {
     "data": {
      "text/plain": [
       "fire_size_class\n",
       "0    36522\n",
       "1    18845\n",
       "Name: count, dtype: int64"
      ]
     },
     "execution_count": 7,
     "metadata": {},
     "output_type": "execute_result"
    }
   ],
   "source": [
    "df.fire_size_class.value_counts()"
   ]
  },
  {
   "cell_type": "code",
   "execution_count": 8,
   "id": "49de324f",
   "metadata": {},
   "outputs": [
    {
     "data": {
      "text/plain": [
       "fire_size_class\n",
       "0    65.96348\n",
       "1    34.03652\n",
       "Name: count, dtype: float64"
      ]
     },
     "execution_count": 8,
     "metadata": {},
     "output_type": "execute_result"
    }
   ],
   "source": [
    "(df.fire_size_class.value_counts()/df.shape[0])*100"
   ]
  },
  {
   "cell_type": "markdown",
   "id": "33300ae0",
   "metadata": {},
   "source": [
    "### Extracting the date and month and removing the redundant columns."
   ]
  },
  {
   "cell_type": "code",
   "execution_count": 9,
   "id": "fc298a2e",
   "metadata": {},
   "outputs": [],
   "source": [
    "# Extract day, month, year from discovery clean date\n",
    "df['disc_clean_date'] = pd.to_datetime(df['disc_clean_date'])\n",
    "\n",
    "df['disc_month'] = df['disc_clean_date'].dt.month\n",
    "\n",
    "# Drop the columns which are not required\n",
    "df = df.drop(['disc_clean_date', 'disc_date_pre', \\\n",
    "              'wstation_byear', 'wstation_eyear'],axis=1)"
   ]
  },
  {
   "cell_type": "code",
   "execution_count": 10,
   "id": "e41bf528",
   "metadata": {},
   "outputs": [],
   "source": [
    "df= df.drop([\"fire_size\"], axis = 1)"
   ]
  },
  {
   "cell_type": "code",
   "execution_count": 11,
   "id": "2e30c179",
   "metadata": {},
   "outputs": [],
   "source": [
    "df['Vegetation'] = df['Vegetation'].astype(object)"
   ]
  },
  {
   "cell_type": "markdown",
   "id": "e40b27bf",
   "metadata": {},
   "source": [
    "### Applying MinMaxScaler to the weather variables"
   ]
  },
  {
   "cell_type": "code",
   "execution_count": 12,
   "id": "0e983184",
   "metadata": {},
   "outputs": [],
   "source": [
    "from sklearn.preprocessing import MinMaxScaler\n",
    "\n",
    "trans = MinMaxScaler()\n",
    "df.iloc[:, 5:21] = trans.fit_transform(df.iloc[:, 5:21])"
   ]
  },
  {
   "cell_type": "code",
   "execution_count": 13,
   "id": "d05026c2",
   "metadata": {},
   "outputs": [],
   "source": [
    "X = df.drop('fire_size_class',axis=1)\n",
    "y = df['fire_size_class']"
   ]
  },
  {
   "cell_type": "code",
   "execution_count": 14,
   "id": "53a12466",
   "metadata": {},
   "outputs": [
    {
     "data": {
      "text/plain": [
       "Index(['stat_cause_descr', 'latitude', 'longitude', 'Vegetation',\n",
       "       'Temp_pre_30', 'Temp_pre_15', 'Temp_pre_7', 'Temp_cont', 'Wind_pre_30',\n",
       "       'Wind_pre_15', 'Wind_pre_7', 'Wind_cont', 'Hum_pre_30', 'Hum_pre_15',\n",
       "       'Hum_pre_7', 'Hum_cont', 'Prec_pre_30', 'Prec_pre_15', 'Prec_pre_7',\n",
       "       'Prec_cont', 'remoteness', 'disc_month'],\n",
       "      dtype='object')"
      ]
     },
     "execution_count": 14,
     "metadata": {},
     "output_type": "execute_result"
    }
   ],
   "source": [
    "X.columns"
   ]
  },
  {
   "cell_type": "markdown",
   "id": "d7faaf99",
   "metadata": {},
   "source": [
    "### Defining the function for target encoding"
   ]
  },
  {
   "cell_type": "code",
   "execution_count": 15,
   "id": "e7b0ea72",
   "metadata": {},
   "outputs": [],
   "source": [
    "def target_encode_multiclass(X,y): #X,y are pandas df and series\n",
    "    y=y.astype(str)   #convert to string to onehot encode\n",
    "    enc=ce.OneHotEncoder().fit(y)\n",
    "    y_onehot=enc.transform(y)\n",
    "    class_names=y_onehot.columns  #names of onehot encoded columns\n",
    "    X_obj=X.select_dtypes('object') #separate categorical columns\n",
    "    X=X.select_dtypes(exclude='object')\n",
    "    for class_ in class_names:\n",
    "        enc=ce.TargetEncoder()\n",
    "        enc.fit(X_obj,y_onehot[class_]) #convert all categorical\n",
    "        temp=enc.transform(X_obj)       #columns for class_\n",
    "        temp.columns=[str(x)+'_'+str(class_) for x in temp.columns]\n",
    "        X=pd.concat([X,temp],axis=1)    #add to original dataset\n",
    "\n",
    "    return X"
   ]
  },
  {
   "cell_type": "code",
   "execution_count": 16,
   "id": "8922f29f",
   "metadata": {},
   "outputs": [],
   "source": [
    "X = target_encode_multiclass(X,y)"
   ]
  },
  {
   "cell_type": "code",
   "execution_count": 17,
   "id": "49c62ed5",
   "metadata": {},
   "outputs": [],
   "source": [
    "from sklearn.metrics import roc_curve, accuracy_score\n",
    "from sklearn.metrics import auc, classification_report\n",
    "from sklearn.model_selection import train_test_split\n",
    "from sklearn.model_selection import StratifiedKFold"
   ]
  },
  {
   "cell_type": "markdown",
   "id": "19c9c940",
   "metadata": {},
   "source": [
    "### Random Forest"
   ]
  },
  {
   "cell_type": "code",
   "execution_count": 18,
   "id": "653757da",
   "metadata": {},
   "outputs": [],
   "source": [
    "# Split the data into training and testing sets\n",
    "X_train, X_test, y_train, y_test = train_test_split(X, y, test_size=0.2, random_state=42)\n",
    "\n",
    "num_folds = 5\n",
    "\n",
    "# Set up k-fold cross-validation\n",
    "stratified_kf = StratifiedKFold(n_splits=num_folds, shuffle=True, random_state=42)"
   ]
  },
  {
   "cell_type": "code",
   "execution_count": 19,
   "id": "1da9adb1",
   "metadata": {},
   "outputs": [
    {
     "name": "stdout",
     "output_type": "stream",
     "text": [
      "Mean Precision for RF: 0.7446038540182546\n",
      "Mean Recall for RF: 0.750276560013198\n",
      "Mean F1-Score for RF: 0.7315982271038048\n"
     ]
    }
   ],
   "source": [
    "RF = RandomForestClassifier()\n",
    "\n",
    "# Lists to store metrics for each fold\n",
    "RF_precision_list = []\n",
    "RF_recall_list = []\n",
    "RF_f1_list = []\n",
    "\n",
    "for train_index, val_index in stratified_kf.split(X_train, y_train):\n",
    "    X_train_fold, X_val_fold = X_train.iloc[train_index], X_train.iloc[val_index]\n",
    "    y_train_fold, y_val_fold = y_train.iloc[train_index], y_train.iloc[val_index]\n",
    "        \n",
    "    RF.fit(X_train_fold, y_train_fold)\n",
    "    RF_pred = RF.predict(X_val_fold)\n",
    "\n",
    "    # Calculate metrics for each fold\n",
    "    classification_report_fold = classification_report(y_val_fold, RF_pred, output_dict=True)\n",
    "    \n",
    "    RF_precision_list.append(classification_report_fold['weighted avg']['precision'])\n",
    "    RF_recall_list.append(classification_report_fold['weighted avg']['recall'])\n",
    "    RF_f1_list.append(classification_report_fold['weighted avg']['f1-score'])\n",
    "\n",
    "# Calculate mean metrics across all folds\n",
    "mean_RF_precision = np.mean(RF_precision_list)\n",
    "mean_RF_recall = np.mean(RF_recall_list)\n",
    "mean_RF_f1 = np.mean(RF_f1_list)\n",
    "\n",
    "# Print or use the mean metrics as needed\n",
    "print(f'Mean Precision for RF: {mean_RF_precision}')\n",
    "print(f'Mean Recall for RF: {mean_RF_recall}')\n",
    "print(f'Mean F1-Score for RF: {mean_RF_f1}')"
   ]
  },
  {
   "cell_type": "code",
   "execution_count": 20,
   "id": "420c61fa",
   "metadata": {},
   "outputs": [],
   "source": [
    "import pickle\n",
    "\n",
    "Pkl_Filename = \"RandomForest_ForestFire.pkl\"\n",
    "\n",
    "with open(Pkl_Filename, 'wb') as file:  \n",
    "    pickle.dump(RF, file)"
   ]
  }
 ],
 "metadata": {
  "kernelspec": {
   "display_name": "Python 3 (ipykernel)",
   "language": "python",
   "name": "python3"
  },
  "language_info": {
   "codemirror_mode": {
    "name": "ipython",
    "version": 3
   },
   "file_extension": ".py",
   "mimetype": "text/x-python",
   "name": "python",
   "nbconvert_exporter": "python",
   "pygments_lexer": "ipython3",
   "version": "3.9.18"
  }
 },
 "nbformat": 4,
 "nbformat_minor": 5
}
